{
 "cells": [
  {
   "cell_type": "markdown",
   "metadata": {},
   "source": [
    "Encoding Development Space."
   ]
  },
  {
   "cell_type": "markdown",
   "metadata": {},
   "source": [
    "Start point:\n",
    "    https://docs.python.org/3/howto/unicode.html"
   ]
  },
  {
   "cell_type": "markdown",
   "metadata": {},
   "source": [
    "\"Strictly, these definitions imply that it’s meaningless to say ‘this is character U+265E’. U+265E is a code point, which represents some particular character; in this case, it represents the character ‘BLACK CHESS KNIGHT’, ‘♞’. In informal contexts, this distinction between code points and characters will sometimes be forgotten.\n",
    "\n",
    "A character is represented on a screen or on paper by a set of graphical elements that’s called a glyph. The glyph for an uppercase A, for example, is two diagonal strokes and a horizontal stroke, though the exact details will depend on the font being used. Most Python code doesn’t need to worry about glyphs; figuring out the correct glyph to display is generally the job of a GUI toolkit or a terminal’s font renderer.\""
   ]
  },
  {
   "cell_type": "markdown",
   "metadata": {},
   "source": [
    "<b>Characters, Symbols and the Unicode Miracle - Computerphile</b>\n",
    "\n",
    "https://www.youtube.com/watch?v=MijmeoH9LT4"
   ]
  },
  {
   "cell_type": "markdown",
   "metadata": {},
   "source": [
    "Type a key and it sends some numbers, and the letter pops up on the other side.\n",
    "\n",
    "But there needs to be a standard.\n",
    "\n",
    "\n",
    "\n",
    "<b>ASCII</b> - <b>A</b>merican's</b> <b>S</b>tandard <b>C</b>ode for <b>I</b>nformation <b>I</b>nterchange.\n",
    "\n",
    "\"7-bit binary system.\"\n",
    "\n",
    "7 zeros\n",
    "\n",
    "<i>0000000</i> = 0\n",
    "\n",
    "<i>1111111</i> = 127\n",
    "\n",
    "<i>0,0,0,0,0,0,0</i>\n",
    "\n",
    "numbers <i><b>64</b>,32,16,8,4,2,1</i>\n",
    "\n",
    "Each letter you type, gets converted into 7 binary numbers and sent over the wire.\n",
    "\n",
    "=That mean you can have numbers from <b>0</b> to <b>127</b>.\n",
    "\n",
    "<b>0</b>-<b>32</b> set as reserved for control codes(+). +Like 'go down a line' or 'backspace'. The rest <b>33</b>-<b>127</b> were made to characters. Adding numbers, puntuation...\n",
    "\n",
    "... and did something clever, they made '<b>A</b>' = <b>65</b> (64th number was '1111111')\n",
    "\n"
   ]
  },
  {
   "cell_type": "markdown",
   "metadata": {},
   "source": [
    "https://youtu.be/MijmeoH9LT4?t=80"
   ]
  },
  {
   "cell_type": "code",
   "execution_count": null,
   "metadata": {},
   "outputs": [],
   "source": []
  },
  {
   "cell_type": "code",
   "execution_count": null,
   "metadata": {},
   "outputs": [],
   "source": []
  },
  {
   "cell_type": "code",
   "execution_count": null,
   "metadata": {},
   "outputs": [],
   "source": []
  },
  {
   "cell_type": "code",
   "execution_count": null,
   "metadata": {},
   "outputs": [],
   "source": []
  },
  {
   "cell_type": "code",
   "execution_count": null,
   "metadata": {},
   "outputs": [],
   "source": []
  },
  {
   "cell_type": "code",
   "execution_count": null,
   "metadata": {},
   "outputs": [],
   "source": []
  },
  {
   "cell_type": "code",
   "execution_count": null,
   "metadata": {},
   "outputs": [],
   "source": []
  },
  {
   "cell_type": "code",
   "execution_count": null,
   "metadata": {},
   "outputs": [],
   "source": []
  },
  {
   "cell_type": "code",
   "execution_count": null,
   "metadata": {},
   "outputs": [],
   "source": []
  },
  {
   "cell_type": "code",
   "execution_count": 3,
   "metadata": {},
   "outputs": [
    {
     "name": "stdout",
     "output_type": "stream",
     "text": [
      "Running: Custom_Methods.check_utf8() ...\n",
      "b'\\xc3\\xaa'\n",
      "first string character: ê\n",
      "length of first string=  1\n",
      "second string character: ê\n",
      "length of second string=  2\n",
      "singleCharacter: b'\\xc3\\xaa'\n",
      "multipleChars: b'e\\xcc\\x82'\n"
     ]
    }
   ],
   "source": [
    "import unicodedata\n",
    "\n",
    "\n",
    "# @DEBUG\n",
    "print('Running: Custom_Methods.check_utf8() ...')\n",
    "\n",
    "singleCharacter = 'ê'\n",
    "print(singleCharacter.encode())\n",
    "\n",
    "\n",
    "singleCharacter = 'ê'\n",
    "print('first string character: ' + singleCharacter)\n",
    "print('length of first string= ' , len(singleCharacter))\n",
    "\n",
    "multipleChars = '\\N{LATIN SMALL LETTER E}\\N{COMBINING CIRCUMFLEX ACCENT}'\n",
    "print('second string character: ' + multipleChars)\n",
    "print('length of second string= ' , len(multipleChars))\n",
    "\n",
    "# print(singleCharacter + multipleChars)\n",
    "\n",
    "# testStr = singleCharacter\n",
    "# testStr = testStr.encode(encoding='UTF-8', errors='strict')\n",
    "\n",
    "print('singleCharacter: ' + str(singleCharacter.encode(encoding='UTF-8', errors='strict')))\n",
    "print('multipleChars: ' + str(multipleChars.encode(encoding='UTF-8', errors='strict')))"
   ]
  },
  {
   "cell_type": "code",
   "execution_count": 14,
   "metadata": {},
   "outputs": [
    {
     "ename": "UnicodeEncodeError",
     "evalue": "'ascii' codec can't encode character '\\u0302' in position 1: ordinal not in range(128)",
     "output_type": "error",
     "traceback": [
      "\u001b[1;31m---------------------------------------------------------------------------\u001b[0m",
      "\u001b[1;31mUnicodeEncodeError\u001b[0m                        Traceback (most recent call last)",
      "\u001b[1;32m<ipython-input-14-1af91ee67815>\u001b[0m in \u001b[0;36m<module>\u001b[1;34m\u001b[0m\n\u001b[1;32m----> 1\u001b[1;33m \u001b[0mprint\u001b[0m\u001b[1;33m(\u001b[0m\u001b[0mmultipleChars\u001b[0m\u001b[1;33m.\u001b[0m\u001b[0mencode\u001b[0m\u001b[1;33m(\u001b[0m\u001b[0mencoding\u001b[0m\u001b[1;33m=\u001b[0m\u001b[1;34m'us-ascii'\u001b[0m\u001b[1;33m,\u001b[0m \u001b[0merrors\u001b[0m\u001b[1;33m=\u001b[0m\u001b[1;34m'strict'\u001b[0m\u001b[1;33m)\u001b[0m\u001b[1;33m)\u001b[0m\u001b[1;33m\u001b[0m\u001b[1;33m\u001b[0m\u001b[0m\n\u001b[0m",
      "\u001b[1;31mUnicodeEncodeError\u001b[0m: 'ascii' codec can't encode character '\\u0302' in position 1: ordinal not in range(128)"
     ]
    }
   ],
   "source": [
    "# print(multipleChars.encode(encoding='us-ascii', errors='strict'))"
   ]
  },
  {
   "cell_type": "code",
   "execution_count": 14,
   "metadata": {},
   "outputs": [
    {
     "name": "stdout",
     "output_type": "stream",
     "text": [
      "mutipleChars variable: ê\n",
      "b'e\\xcc\\x82'\n"
     ]
    }
   ],
   "source": [
    "print(\"mutipleChars variable: {multipleChars}\".format(multipleChars))\n",
    "print(multipleChars.encode(encoding='utf-8', errors='strict'))"
   ]
  },
  {
   "cell_type": "code",
   "execution_count": 28,
   "metadata": {},
   "outputs": [
    {
     "name": "stdout",
     "output_type": "stream",
     "text": [
      "variable has a length of: 2\n"
     ]
    }
   ],
   "source": [
    "# import codecs\n",
    "\n",
    "codecs.encode(multipleChars, encoding = 'utf-8', errors = 'strict')\n",
    "print('variable has a length of: {0}'.format(str(len(multipleChars))))"
   ]
  },
  {
   "cell_type": "code",
   "execution_count": null,
   "metadata": {},
   "outputs": [],
   "source": []
  },
  {
   "cell_type": "code",
   "execution_count": null,
   "metadata": {},
   "outputs": [],
   "source": []
  },
  {
   "cell_type": "code",
   "execution_count": 103,
   "metadata": {},
   "outputs": [],
   "source": [
    "def return_character_encoding(var=None, argEncoding='utf-8'):\n",
    "    if var:\n",
    "        print('Starting program...')\n",
    "        print('~~')\n",
    "        print('[Using hard coded variables for testing right now.]\\n')\n",
    "        \n",
    "        \n",
    "        # What the character looks like?\n",
    "        print('Before it is encoded\\nthe text appears as: {0}\\n'.format(var))\n",
    "        # How many characters are there?\n",
    "        print('There are {0} byte(s) of data in the variable\\n'.format(len(var)))\n",
    "        # How many characters in the string?\n",
    "        print('The length of the string is: {0}'.format(len(str(var))))\n",
    "        \n",
    "        \n",
    "        strEncode = var.encode(encoding=argEncoding)\n",
    "        print('Encoded string result is: {0}\\n'.format(strEncode))\n",
    "        \n",
    "        strDecodeEncoded = strEncode.decode(encoding=argEncoding)\n",
    "        print('Decode the encoded string result is: {0}\\n'.format(strDecodeEncoded))\n",
    "        \n",
    "        print('Encoding type is: {}'.format(var.codecs))\n",
    "        \n",
    "        \n",
    "        \n",
    "        print('\\nEnd of Program. Thanks for stopping by.\\n~~~')\n",
    "    return None"
   ]
  },
  {
   "cell_type": "code",
   "execution_count": 104,
   "metadata": {},
   "outputs": [
    {
     "name": "stdout",
     "output_type": "stream",
     "text": [
      "Starting program...\n",
      "~~\n",
      "[Using hard coded variables for testing right now.]\n",
      "\n",
      "Before it is encoded\n",
      "the text appears as: êê\n",
      "\n",
      "There are 3 byte(s) of data in the variable\n",
      "\n",
      "The length of the string is: 3\n",
      "Encoded string result is: b'e\\xcc\\x82\\xc3\\xaa'\n",
      "\n",
      "Decode the encoded string result is: êê\n",
      "\n"
     ]
    },
    {
     "ename": "AttributeError",
     "evalue": "'str' object has no attribute 'codecs'",
     "output_type": "error",
     "traceback": [
      "\u001b[1;31m---------------------------------------------------------------------------\u001b[0m",
      "\u001b[1;31mAttributeError\u001b[0m                            Traceback (most recent call last)",
      "\u001b[1;32m<ipython-input-104-7542d7b2a368>\u001b[0m in \u001b[0;36m<module>\u001b[1;34m\u001b[0m\n\u001b[0;32m      4\u001b[0m \u001b[1;31m# testString.encode()\u001b[0m\u001b[1;33m\u001b[0m\u001b[1;33m\u001b[0m\u001b[1;33m\u001b[0m\u001b[0m\n\u001b[0;32m      5\u001b[0m \u001b[1;33m\u001b[0m\u001b[0m\n\u001b[1;32m----> 6\u001b[1;33m \u001b[0mreturn_character_encoding\u001b[0m\u001b[1;33m(\u001b[0m\u001b[0mcombo\u001b[0m\u001b[1;33m)\u001b[0m\u001b[1;33m\u001b[0m\u001b[1;33m\u001b[0m\u001b[0m\n\u001b[0m",
      "\u001b[1;32m<ipython-input-103-47a80003e58c>\u001b[0m in \u001b[0;36mreturn_character_encoding\u001b[1;34m(var, argEncoding)\u001b[0m\n\u001b[0;32m     20\u001b[0m         \u001b[0mprint\u001b[0m\u001b[1;33m(\u001b[0m\u001b[1;34m'Decode the encoded string result is: {0}\\n'\u001b[0m\u001b[1;33m.\u001b[0m\u001b[0mformat\u001b[0m\u001b[1;33m(\u001b[0m\u001b[0mstrDecodeEncoded\u001b[0m\u001b[1;33m)\u001b[0m\u001b[1;33m)\u001b[0m\u001b[1;33m\u001b[0m\u001b[1;33m\u001b[0m\u001b[0m\n\u001b[0;32m     21\u001b[0m \u001b[1;33m\u001b[0m\u001b[0m\n\u001b[1;32m---> 22\u001b[1;33m         \u001b[0mprint\u001b[0m\u001b[1;33m(\u001b[0m\u001b[1;34m'Encoding type is: {}'\u001b[0m\u001b[1;33m.\u001b[0m\u001b[0mformat\u001b[0m\u001b[1;33m(\u001b[0m\u001b[0mvar\u001b[0m\u001b[1;33m.\u001b[0m\u001b[0mcodecs\u001b[0m\u001b[1;33m)\u001b[0m\u001b[1;33m)\u001b[0m\u001b[1;33m\u001b[0m\u001b[1;33m\u001b[0m\u001b[0m\n\u001b[0m\u001b[0;32m     23\u001b[0m \u001b[1;33m\u001b[0m\u001b[0m\n\u001b[0;32m     24\u001b[0m \u001b[1;33m\u001b[0m\u001b[0m\n",
      "\u001b[1;31mAttributeError\u001b[0m: 'str' object has no attribute 'codecs'"
     ]
    }
   ],
   "source": [
    "testString1 = '\\N{LATIN SMALL LETTER E}\\N{COMBINING CIRCUMFLEX ACCENT}'\n",
    "testString2 = 'ê'\n",
    "combo = testString1 + testString2\n",
    "# testString.encode()\n",
    "\n",
    "return_character_encoding(combo)"
   ]
  },
  {
   "cell_type": "code",
   "execution_count": null,
   "metadata": {},
   "outputs": [],
   "source": []
  }
 ],
 "metadata": {
  "kernelspec": {
   "display_name": "Python 3",
   "language": "python",
   "name": "python3"
  },
  "language_info": {
   "codemirror_mode": {
    "name": "ipython",
    "version": 3
   },
   "file_extension": ".py",
   "mimetype": "text/x-python",
   "name": "python",
   "nbconvert_exporter": "python",
   "pygments_lexer": "ipython3",
   "version": "3.7.4"
  }
 },
 "nbformat": 4,
 "nbformat_minor": 2
}

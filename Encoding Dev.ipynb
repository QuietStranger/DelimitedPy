{
 "cells": [
  {
   "cell_type": "markdown",
   "metadata": {},
   "source": [
    "Encoding Development Space."
   ]
  },
  {
   "cell_type": "markdown",
   "metadata": {},
   "source": [
    "Start point:\n",
    "    https://docs.python.org/3/howto/unicode.html"
   ]
  },
  {
   "cell_type": "markdown",
   "metadata": {},
   "source": [
    "\"Strictly, these definitions imply that it’s meaningless to say ‘this is character U+265E’. U+265E is a code point, which represents some particular character; in this case, it represents the character ‘BLACK CHESS KNIGHT’, ‘♞’. In informal contexts, this distinction between code points and characters will sometimes be forgotten.\n",
    "\n",
    "A character is represented on a screen or on paper by a set of graphical elements that’s called a glyph. The glyph for an uppercase A, for example, is two diagonal strokes and a horizontal stroke, though the exact details will depend on the font being used. Most Python code doesn’t need to worry about glyphs; figuring out the correct glyph to display is generally the job of a GUI toolkit or a terminal’s font renderer.\""
   ]
  },
  {
   "cell_type": "markdown",
   "metadata": {},
   "source": [
    "<b>Characters, Symbols and the Unicode Miracle - Computerphile</b>\n",
    "\n",
    "https://www.youtube.com/watch?v=MijmeoH9LT4"
   ]
  },
  {
   "cell_type": "markdown",
   "metadata": {},
   "source": [
    "Type a key and it sends some numbers, and the letter pops up on the other side.\n",
    "\n",
    "But there needs to be a standard.\n",
    "\n",
    "\n",
    "\n",
    "<b>ASCII</b> - <b>A</b>merican's</b> <b>S</b>tandard <b>C</b>ode for <b>I</b>nformation <b>I</b>nterchange.\n",
    "\n",
    "\"7-bit binary system.\"\n",
    "\n",
    "7 zeros <i>0000000</i> = 0\n",
    "\n",
    "        <i>1111111</i> = 127\n",
    "\n",
    "Each letter you type, gets converted into 7 binary numbers and sent over the wire.\n",
    "\n",
    "=That mean you can have numbers from 0 to 127.\n",
    "\n",
    "0-32 set as reserved for control codes(+). +Like 'go down a line' or 'backspace'.\n",
    "\n"
   ]
  },
  {
   "cell_type": "code",
   "execution_count": null,
   "metadata": {},
   "outputs": [],
   "source": []
  },
  {
   "cell_type": "code",
   "execution_count": null,
   "metadata": {},
   "outputs": [],
   "source": []
  }
 ],
 "metadata": {
  "kernelspec": {
   "display_name": "Python 3",
   "language": "python",
   "name": "python3"
  },
  "language_info": {
   "codemirror_mode": {
    "name": "ipython",
    "version": 3
   },
   "file_extension": ".py",
   "mimetype": "text/x-python",
   "name": "python",
   "nbconvert_exporter": "python",
   "pygments_lexer": "ipython3",
   "version": "3.7.4"
  }
 },
 "nbformat": 4,
 "nbformat_minor": 2
}
